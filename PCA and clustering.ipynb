{
 "cells": [
  {
   "cell_type": "code",
   "execution_count": 1,
   "metadata": {},
   "outputs": [],
   "source": [
    "import pandas as pd\n",
    "import numpy as np\n",
    "import matplotlib.pyplot as plt\n",
    "import seaborn as sns"
   ]
  },
  {
   "cell_type": "code",
   "execution_count": 30,
   "metadata": {},
   "outputs": [],
   "source": [
    "import sklearn\n",
    "from sklearn.preprocessing import StandardScaler\n",
    "from sklearn.cluster import KMeans\n",
    "from sklearn.metrics import silhouette_score\n",
    "\n",
    "from scipy.cluster.hierarchy import linkage\n",
    "from scipy.cluster.hierarchy import dendrogram\n",
    "from scipy.cluster.hierarchy import cut_tree"
   ]
  },
  {
   "cell_type": "code",
   "execution_count": 171,
   "metadata": {},
   "outputs": [],
   "source": [
    "data=pd.read_csv('Country-data.csv')"
   ]
  },
  {
   "cell_type": "code",
   "execution_count": 172,
   "metadata": {},
   "outputs": [
    {
     "data": {
      "text/html": [
       "<div>\n",
       "<style scoped>\n",
       "    .dataframe tbody tr th:only-of-type {\n",
       "        vertical-align: middle;\n",
       "    }\n",
       "\n",
       "    .dataframe tbody tr th {\n",
       "        vertical-align: top;\n",
       "    }\n",
       "\n",
       "    .dataframe thead th {\n",
       "        text-align: right;\n",
       "    }\n",
       "</style>\n",
       "<table border=\"1\" class=\"dataframe\">\n",
       "  <thead>\n",
       "    <tr style=\"text-align: right;\">\n",
       "      <th></th>\n",
       "      <th>country</th>\n",
       "      <th>child_mort</th>\n",
       "      <th>exports</th>\n",
       "      <th>health</th>\n",
       "      <th>imports</th>\n",
       "      <th>income</th>\n",
       "      <th>inflation</th>\n",
       "      <th>life_expec</th>\n",
       "      <th>total_fer</th>\n",
       "      <th>gdpp</th>\n",
       "    </tr>\n",
       "  </thead>\n",
       "  <tbody>\n",
       "    <tr>\n",
       "      <th>0</th>\n",
       "      <td>Afghanistan</td>\n",
       "      <td>90.2</td>\n",
       "      <td>10.0</td>\n",
       "      <td>7.58</td>\n",
       "      <td>44.9</td>\n",
       "      <td>1610</td>\n",
       "      <td>9.44</td>\n",
       "      <td>56.2</td>\n",
       "      <td>5.82</td>\n",
       "      <td>553</td>\n",
       "    </tr>\n",
       "    <tr>\n",
       "      <th>1</th>\n",
       "      <td>Albania</td>\n",
       "      <td>16.6</td>\n",
       "      <td>28.0</td>\n",
       "      <td>6.55</td>\n",
       "      <td>48.6</td>\n",
       "      <td>9930</td>\n",
       "      <td>4.49</td>\n",
       "      <td>76.3</td>\n",
       "      <td>1.65</td>\n",
       "      <td>4090</td>\n",
       "    </tr>\n",
       "    <tr>\n",
       "      <th>2</th>\n",
       "      <td>Algeria</td>\n",
       "      <td>27.3</td>\n",
       "      <td>38.4</td>\n",
       "      <td>4.17</td>\n",
       "      <td>31.4</td>\n",
       "      <td>12900</td>\n",
       "      <td>16.10</td>\n",
       "      <td>76.5</td>\n",
       "      <td>2.89</td>\n",
       "      <td>4460</td>\n",
       "    </tr>\n",
       "    <tr>\n",
       "      <th>3</th>\n",
       "      <td>Angola</td>\n",
       "      <td>119.0</td>\n",
       "      <td>62.3</td>\n",
       "      <td>2.85</td>\n",
       "      <td>42.9</td>\n",
       "      <td>5900</td>\n",
       "      <td>22.40</td>\n",
       "      <td>60.1</td>\n",
       "      <td>6.16</td>\n",
       "      <td>3530</td>\n",
       "    </tr>\n",
       "    <tr>\n",
       "      <th>4</th>\n",
       "      <td>Antigua and Barbuda</td>\n",
       "      <td>10.3</td>\n",
       "      <td>45.5</td>\n",
       "      <td>6.03</td>\n",
       "      <td>58.9</td>\n",
       "      <td>19100</td>\n",
       "      <td>1.44</td>\n",
       "      <td>76.8</td>\n",
       "      <td>2.13</td>\n",
       "      <td>12200</td>\n",
       "    </tr>\n",
       "  </tbody>\n",
       "</table>\n",
       "</div>"
      ],
      "text/plain": [
       "               country  child_mort  exports  health  imports  income  \\\n",
       "0          Afghanistan        90.2     10.0    7.58     44.9    1610   \n",
       "1              Albania        16.6     28.0    6.55     48.6    9930   \n",
       "2              Algeria        27.3     38.4    4.17     31.4   12900   \n",
       "3               Angola       119.0     62.3    2.85     42.9    5900   \n",
       "4  Antigua and Barbuda        10.3     45.5    6.03     58.9   19100   \n",
       "\n",
       "   inflation  life_expec  total_fer   gdpp  \n",
       "0       9.44        56.2       5.82    553  \n",
       "1       4.49        76.3       1.65   4090  \n",
       "2      16.10        76.5       2.89   4460  \n",
       "3      22.40        60.1       6.16   3530  \n",
       "4       1.44        76.8       2.13  12200  "
      ]
     },
     "execution_count": 172,
     "metadata": {},
     "output_type": "execute_result"
    }
   ],
   "source": [
    "data.head()"
   ]
  },
  {
   "cell_type": "code",
   "execution_count": 173,
   "metadata": {},
   "outputs": [
    {
     "data": {
      "text/plain": [
       "(167, 10)"
      ]
     },
     "execution_count": 173,
     "metadata": {},
     "output_type": "execute_result"
    }
   ],
   "source": [
    "data.shape"
   ]
  },
  {
   "cell_type": "code",
   "execution_count": 174,
   "metadata": {},
   "outputs": [
    {
     "data": {
      "text/html": [
       "<div>\n",
       "<style scoped>\n",
       "    .dataframe tbody tr th:only-of-type {\n",
       "        vertical-align: middle;\n",
       "    }\n",
       "\n",
       "    .dataframe tbody tr th {\n",
       "        vertical-align: top;\n",
       "    }\n",
       "\n",
       "    .dataframe thead th {\n",
       "        text-align: right;\n",
       "    }\n",
       "</style>\n",
       "<table border=\"1\" class=\"dataframe\">\n",
       "  <thead>\n",
       "    <tr style=\"text-align: right;\">\n",
       "      <th></th>\n",
       "      <th>child_mort</th>\n",
       "      <th>exports</th>\n",
       "      <th>health</th>\n",
       "      <th>imports</th>\n",
       "      <th>income</th>\n",
       "      <th>inflation</th>\n",
       "      <th>life_expec</th>\n",
       "      <th>total_fer</th>\n",
       "      <th>gdpp</th>\n",
       "    </tr>\n",
       "  </thead>\n",
       "  <tbody>\n",
       "    <tr>\n",
       "      <th>count</th>\n",
       "      <td>167.000000</td>\n",
       "      <td>167.000000</td>\n",
       "      <td>167.000000</td>\n",
       "      <td>167.000000</td>\n",
       "      <td>167.000000</td>\n",
       "      <td>167.000000</td>\n",
       "      <td>167.000000</td>\n",
       "      <td>167.000000</td>\n",
       "      <td>167.000000</td>\n",
       "    </tr>\n",
       "    <tr>\n",
       "      <th>mean</th>\n",
       "      <td>38.270060</td>\n",
       "      <td>41.108976</td>\n",
       "      <td>6.815689</td>\n",
       "      <td>46.890215</td>\n",
       "      <td>17144.688623</td>\n",
       "      <td>7.781832</td>\n",
       "      <td>70.555689</td>\n",
       "      <td>2.947964</td>\n",
       "      <td>12964.155689</td>\n",
       "    </tr>\n",
       "    <tr>\n",
       "      <th>std</th>\n",
       "      <td>40.328931</td>\n",
       "      <td>27.412010</td>\n",
       "      <td>2.746837</td>\n",
       "      <td>24.209589</td>\n",
       "      <td>19278.067698</td>\n",
       "      <td>10.570704</td>\n",
       "      <td>8.893172</td>\n",
       "      <td>1.513848</td>\n",
       "      <td>18328.704809</td>\n",
       "    </tr>\n",
       "    <tr>\n",
       "      <th>min</th>\n",
       "      <td>2.600000</td>\n",
       "      <td>0.109000</td>\n",
       "      <td>1.810000</td>\n",
       "      <td>0.065900</td>\n",
       "      <td>609.000000</td>\n",
       "      <td>-4.210000</td>\n",
       "      <td>32.100000</td>\n",
       "      <td>1.150000</td>\n",
       "      <td>231.000000</td>\n",
       "    </tr>\n",
       "    <tr>\n",
       "      <th>25%</th>\n",
       "      <td>8.250000</td>\n",
       "      <td>23.800000</td>\n",
       "      <td>4.920000</td>\n",
       "      <td>30.200000</td>\n",
       "      <td>3355.000000</td>\n",
       "      <td>1.810000</td>\n",
       "      <td>65.300000</td>\n",
       "      <td>1.795000</td>\n",
       "      <td>1330.000000</td>\n",
       "    </tr>\n",
       "    <tr>\n",
       "      <th>50%</th>\n",
       "      <td>19.300000</td>\n",
       "      <td>35.000000</td>\n",
       "      <td>6.320000</td>\n",
       "      <td>43.300000</td>\n",
       "      <td>9960.000000</td>\n",
       "      <td>5.390000</td>\n",
       "      <td>73.100000</td>\n",
       "      <td>2.410000</td>\n",
       "      <td>4660.000000</td>\n",
       "    </tr>\n",
       "    <tr>\n",
       "      <th>75%</th>\n",
       "      <td>62.100000</td>\n",
       "      <td>51.350000</td>\n",
       "      <td>8.600000</td>\n",
       "      <td>58.750000</td>\n",
       "      <td>22800.000000</td>\n",
       "      <td>10.750000</td>\n",
       "      <td>76.800000</td>\n",
       "      <td>3.880000</td>\n",
       "      <td>14050.000000</td>\n",
       "    </tr>\n",
       "    <tr>\n",
       "      <th>max</th>\n",
       "      <td>208.000000</td>\n",
       "      <td>200.000000</td>\n",
       "      <td>17.900000</td>\n",
       "      <td>174.000000</td>\n",
       "      <td>125000.000000</td>\n",
       "      <td>104.000000</td>\n",
       "      <td>82.800000</td>\n",
       "      <td>7.490000</td>\n",
       "      <td>105000.000000</td>\n",
       "    </tr>\n",
       "  </tbody>\n",
       "</table>\n",
       "</div>"
      ],
      "text/plain": [
       "       child_mort     exports      health     imports         income  \\\n",
       "count  167.000000  167.000000  167.000000  167.000000     167.000000   \n",
       "mean    38.270060   41.108976    6.815689   46.890215   17144.688623   \n",
       "std     40.328931   27.412010    2.746837   24.209589   19278.067698   \n",
       "min      2.600000    0.109000    1.810000    0.065900     609.000000   \n",
       "25%      8.250000   23.800000    4.920000   30.200000    3355.000000   \n",
       "50%     19.300000   35.000000    6.320000   43.300000    9960.000000   \n",
       "75%     62.100000   51.350000    8.600000   58.750000   22800.000000   \n",
       "max    208.000000  200.000000   17.900000  174.000000  125000.000000   \n",
       "\n",
       "        inflation  life_expec   total_fer           gdpp  \n",
       "count  167.000000  167.000000  167.000000     167.000000  \n",
       "mean     7.781832   70.555689    2.947964   12964.155689  \n",
       "std     10.570704    8.893172    1.513848   18328.704809  \n",
       "min     -4.210000   32.100000    1.150000     231.000000  \n",
       "25%      1.810000   65.300000    1.795000    1330.000000  \n",
       "50%      5.390000   73.100000    2.410000    4660.000000  \n",
       "75%     10.750000   76.800000    3.880000   14050.000000  \n",
       "max    104.000000   82.800000    7.490000  105000.000000  "
      ]
     },
     "execution_count": 174,
     "metadata": {},
     "output_type": "execute_result"
    }
   ],
   "source": [
    "data.describe()"
   ]
  },
  {
   "cell_type": "code",
   "execution_count": 175,
   "metadata": {},
   "outputs": [
    {
     "name": "stdout",
     "output_type": "stream",
     "text": [
      "<class 'pandas.core.frame.DataFrame'>\n",
      "RangeIndex: 167 entries, 0 to 166\n",
      "Data columns (total 10 columns):\n",
      "country       167 non-null object\n",
      "child_mort    167 non-null float64\n",
      "exports       167 non-null float64\n",
      "health        167 non-null float64\n",
      "imports       167 non-null float64\n",
      "income        167 non-null int64\n",
      "inflation     167 non-null float64\n",
      "life_expec    167 non-null float64\n",
      "total_fer     167 non-null float64\n",
      "gdpp          167 non-null int64\n",
      "dtypes: float64(7), int64(2), object(1)\n",
      "memory usage: 13.1+ KB\n"
     ]
    }
   ],
   "source": [
    "data.info()"
   ]
  },
  {
   "cell_type": "code",
   "execution_count": 176,
   "metadata": {},
   "outputs": [
    {
     "data": {
      "text/plain": [
       "country       0.0\n",
       "child_mort    0.0\n",
       "exports       0.0\n",
       "health        0.0\n",
       "imports       0.0\n",
       "income        0.0\n",
       "inflation     0.0\n",
       "life_expec    0.0\n",
       "total_fer     0.0\n",
       "gdpp          0.0\n",
       "dtype: float64"
      ]
     },
     "execution_count": 176,
     "metadata": {},
     "output_type": "execute_result"
    }
   ],
   "source": [
    "round(100*(data.isnull().sum()/len(data.index)), 2)"
   ]
  },
  {
   "cell_type": "markdown",
   "metadata": {},
   "source": [
    "There is no null data and all the columns are numerical so data is completely fit"
   ]
  },
  {
   "cell_type": "code",
   "execution_count": 177,
   "metadata": {},
   "outputs": [
    {
     "data": {
      "text/html": [
       "<div>\n",
       "<style scoped>\n",
       "    .dataframe tbody tr th:only-of-type {\n",
       "        vertical-align: middle;\n",
       "    }\n",
       "\n",
       "    .dataframe tbody tr th {\n",
       "        vertical-align: top;\n",
       "    }\n",
       "\n",
       "    .dataframe thead th {\n",
       "        text-align: right;\n",
       "    }\n",
       "</style>\n",
       "<table border=\"1\" class=\"dataframe\">\n",
       "  <thead>\n",
       "    <tr style=\"text-align: right;\">\n",
       "      <th></th>\n",
       "      <th>child_mort</th>\n",
       "      <th>exports</th>\n",
       "      <th>health</th>\n",
       "      <th>imports</th>\n",
       "      <th>income</th>\n",
       "      <th>inflation</th>\n",
       "      <th>life_expec</th>\n",
       "      <th>total_fer</th>\n",
       "      <th>gdpp</th>\n",
       "    </tr>\n",
       "  </thead>\n",
       "  <tbody>\n",
       "    <tr>\n",
       "      <th>count</th>\n",
       "      <td>167.000000</td>\n",
       "      <td>167.000000</td>\n",
       "      <td>167.000000</td>\n",
       "      <td>167.000000</td>\n",
       "      <td>167.000000</td>\n",
       "      <td>167.000000</td>\n",
       "      <td>167.000000</td>\n",
       "      <td>167.000000</td>\n",
       "      <td>167.000000</td>\n",
       "    </tr>\n",
       "    <tr>\n",
       "      <th>mean</th>\n",
       "      <td>38.270060</td>\n",
       "      <td>41.108976</td>\n",
       "      <td>6.815689</td>\n",
       "      <td>46.890215</td>\n",
       "      <td>17144.688623</td>\n",
       "      <td>7.781832</td>\n",
       "      <td>70.555689</td>\n",
       "      <td>2.947964</td>\n",
       "      <td>12964.155689</td>\n",
       "    </tr>\n",
       "    <tr>\n",
       "      <th>std</th>\n",
       "      <td>40.328931</td>\n",
       "      <td>27.412010</td>\n",
       "      <td>2.746837</td>\n",
       "      <td>24.209589</td>\n",
       "      <td>19278.067698</td>\n",
       "      <td>10.570704</td>\n",
       "      <td>8.893172</td>\n",
       "      <td>1.513848</td>\n",
       "      <td>18328.704809</td>\n",
       "    </tr>\n",
       "    <tr>\n",
       "      <th>min</th>\n",
       "      <td>2.600000</td>\n",
       "      <td>0.109000</td>\n",
       "      <td>1.810000</td>\n",
       "      <td>0.065900</td>\n",
       "      <td>609.000000</td>\n",
       "      <td>-4.210000</td>\n",
       "      <td>32.100000</td>\n",
       "      <td>1.150000</td>\n",
       "      <td>231.000000</td>\n",
       "    </tr>\n",
       "    <tr>\n",
       "      <th>25%</th>\n",
       "      <td>8.250000</td>\n",
       "      <td>23.800000</td>\n",
       "      <td>4.920000</td>\n",
       "      <td>30.200000</td>\n",
       "      <td>3355.000000</td>\n",
       "      <td>1.810000</td>\n",
       "      <td>65.300000</td>\n",
       "      <td>1.795000</td>\n",
       "      <td>1330.000000</td>\n",
       "    </tr>\n",
       "    <tr>\n",
       "      <th>50%</th>\n",
       "      <td>19.300000</td>\n",
       "      <td>35.000000</td>\n",
       "      <td>6.320000</td>\n",
       "      <td>43.300000</td>\n",
       "      <td>9960.000000</td>\n",
       "      <td>5.390000</td>\n",
       "      <td>73.100000</td>\n",
       "      <td>2.410000</td>\n",
       "      <td>4660.000000</td>\n",
       "    </tr>\n",
       "    <tr>\n",
       "      <th>75%</th>\n",
       "      <td>62.100000</td>\n",
       "      <td>51.350000</td>\n",
       "      <td>8.600000</td>\n",
       "      <td>58.750000</td>\n",
       "      <td>22800.000000</td>\n",
       "      <td>10.750000</td>\n",
       "      <td>76.800000</td>\n",
       "      <td>3.880000</td>\n",
       "      <td>14050.000000</td>\n",
       "    </tr>\n",
       "    <tr>\n",
       "      <th>90%</th>\n",
       "      <td>100.220000</td>\n",
       "      <td>70.800000</td>\n",
       "      <td>10.940000</td>\n",
       "      <td>75.420000</td>\n",
       "      <td>41220.000000</td>\n",
       "      <td>16.640000</td>\n",
       "      <td>80.400000</td>\n",
       "      <td>5.322000</td>\n",
       "      <td>41840.000000</td>\n",
       "    </tr>\n",
       "    <tr>\n",
       "      <th>95%</th>\n",
       "      <td>116.000000</td>\n",
       "      <td>80.570000</td>\n",
       "      <td>11.570000</td>\n",
       "      <td>81.140000</td>\n",
       "      <td>48290.000000</td>\n",
       "      <td>20.870000</td>\n",
       "      <td>81.400000</td>\n",
       "      <td>5.861000</td>\n",
       "      <td>48610.000000</td>\n",
       "    </tr>\n",
       "    <tr>\n",
       "      <th>99%</th>\n",
       "      <td>153.400000</td>\n",
       "      <td>160.480000</td>\n",
       "      <td>13.474000</td>\n",
       "      <td>146.080000</td>\n",
       "      <td>84374.000000</td>\n",
       "      <td>41.478000</td>\n",
       "      <td>82.370000</td>\n",
       "      <td>6.563600</td>\n",
       "      <td>79088.000000</td>\n",
       "    </tr>\n",
       "    <tr>\n",
       "      <th>max</th>\n",
       "      <td>208.000000</td>\n",
       "      <td>200.000000</td>\n",
       "      <td>17.900000</td>\n",
       "      <td>174.000000</td>\n",
       "      <td>125000.000000</td>\n",
       "      <td>104.000000</td>\n",
       "      <td>82.800000</td>\n",
       "      <td>7.490000</td>\n",
       "      <td>105000.000000</td>\n",
       "    </tr>\n",
       "  </tbody>\n",
       "</table>\n",
       "</div>"
      ],
      "text/plain": [
       "       child_mort     exports      health     imports         income  \\\n",
       "count  167.000000  167.000000  167.000000  167.000000     167.000000   \n",
       "mean    38.270060   41.108976    6.815689   46.890215   17144.688623   \n",
       "std     40.328931   27.412010    2.746837   24.209589   19278.067698   \n",
       "min      2.600000    0.109000    1.810000    0.065900     609.000000   \n",
       "25%      8.250000   23.800000    4.920000   30.200000    3355.000000   \n",
       "50%     19.300000   35.000000    6.320000   43.300000    9960.000000   \n",
       "75%     62.100000   51.350000    8.600000   58.750000   22800.000000   \n",
       "90%    100.220000   70.800000   10.940000   75.420000   41220.000000   \n",
       "95%    116.000000   80.570000   11.570000   81.140000   48290.000000   \n",
       "99%    153.400000  160.480000   13.474000  146.080000   84374.000000   \n",
       "max    208.000000  200.000000   17.900000  174.000000  125000.000000   \n",
       "\n",
       "        inflation  life_expec   total_fer           gdpp  \n",
       "count  167.000000  167.000000  167.000000     167.000000  \n",
       "mean     7.781832   70.555689    2.947964   12964.155689  \n",
       "std     10.570704    8.893172    1.513848   18328.704809  \n",
       "min     -4.210000   32.100000    1.150000     231.000000  \n",
       "25%      1.810000   65.300000    1.795000    1330.000000  \n",
       "50%      5.390000   73.100000    2.410000    4660.000000  \n",
       "75%     10.750000   76.800000    3.880000   14050.000000  \n",
       "90%     16.640000   80.400000    5.322000   41840.000000  \n",
       "95%     20.870000   81.400000    5.861000   48610.000000  \n",
       "99%     41.478000   82.370000    6.563600   79088.000000  \n",
       "max    104.000000   82.800000    7.490000  105000.000000  "
      ]
     },
     "execution_count": 177,
     "metadata": {},
     "output_type": "execute_result"
    }
   ],
   "source": [
    "#checking outliers\n",
    "data.describe(percentiles=[.25,.5,.75,.90,.95,.99])"
   ]
  },
  {
   "cell_type": "markdown",
   "metadata": {},
   "source": [
    "There is no outlier in data as such, all the values are increasing gradually only gdpp and inflation are increasing at high rate\n"
   ]
  },
  {
   "cell_type": "code",
   "execution_count": 178,
   "metadata": {},
   "outputs": [
    {
     "data": {
      "text/plain": [
       "{'whiskers': [<matplotlib.lines.Line2D at 0x1d5b930e630>,\n",
       "  <matplotlib.lines.Line2D at 0x1d5b930e978>],\n",
       " 'caps': [<matplotlib.lines.Line2D at 0x1d5b930ecf8>,\n",
       "  <matplotlib.lines.Line2D at 0x1d5b930edd8>],\n",
       " 'boxes': [<matplotlib.lines.Line2D at 0x1d5b930e278>],\n",
       " 'medians': [<matplotlib.lines.Line2D at 0x1d5b8e2c3c8>],\n",
       " 'fliers': [<matplotlib.lines.Line2D at 0x1d5b8e2c710>],\n",
       " 'means': []}"
      ]
     },
     "execution_count": 178,
     "metadata": {},
     "output_type": "execute_result"
    },
    {
     "data": {
      "image/png": "[encoded data removed]",
      "text/plain": [
       "<Figure size 432x288 with 1 Axes>"
      ]
     },
     "metadata": {
      "needs_background": "light"
     },
     "output_type": "display_data"
    }
   ],
   "source": [
    "plt.boxplot(data['inflation'])"
   ]
  },
  {
   "cell_type": "code",
   "execution_count": 179,
   "metadata": {},
   "outputs": [
    {
     "data": {
      "text/plain": [
       "{'whiskers': [<matplotlib.lines.Line2D at 0x1d5b92efe80>,\n",
       "  <matplotlib.lines.Line2D at 0x1d5b92effd0>],\n",
       " 'caps': [<matplotlib.lines.Line2D at 0x1d5b92cf5c0>,\n",
       "  <matplotlib.lines.Line2D at 0x1d5b92cf908>],\n",
       " 'boxes': [<matplotlib.lines.Line2D at 0x1d5b92efac8>],\n",
       " 'medians': [<matplotlib.lines.Line2D at 0x1d5b92cfc50>],\n",
       " 'fliers': [<matplotlib.lines.Line2D at 0x1d5b92cff98>],\n",
       " 'means': []}"
      ]
     },
     "execution_count": 179,
     "metadata": {},
     "output_type": "execute_result"
    },
    {
     "data": {
      "image/png": "[encoded data removed]",
      "text/plain": [
       "<Figure size 432x288 with 1 Axes>"
      ]
     },
     "metadata": {
      "needs_background": "light"
     },
     "output_type": "display_data"
    }
   ],
   "source": [
    "plt.boxplot(data['gdpp'])"
   ]
  },
  {
   "cell_type": "code",
   "execution_count": 180,
   "metadata": {},
   "outputs": [
    {
     "data": {
      "text/plain": [
       "<matplotlib.collections.PathCollection at 0x1d5b8b0a390>"
      ]
     },
     "execution_count": 180,
     "metadata": {},
     "output_type": "execute_result"
    },
    {
     "data": {
      "image/png": "[encoded data removed]",
      "text/plain": [
       "<Figure size 432x288 with 1 Axes>"
      ]
     },
     "metadata": {
      "needs_background": "light"
     },
     "output_type": "display_data"
    }
   ],
   "source": [
    "plt.scatter(data['inflation'],data['gdpp'])"
   ]
  },
  {
   "cell_type": "markdown",
   "metadata": {},
   "source": [
    "Higher gdpp is fine but it's better to remove outlier in inflation as it is very high and there is only one value so will impact the overall data\n",
    "so it's better to impute it with mean value"
   ]
  },
  {
   "cell_type": "code",
   "execution_count": 181,
   "metadata": {},
   "outputs": [],
   "source": [
    "#outlier treatment for inflation\n",
    "mean=data['inflation'].mean()\n",
    "data['inflation']=np.where(data['inflation']>50,mean,data['inflation'])\n"
   ]
  },
  {
   "cell_type": "code",
   "execution_count": 182,
   "metadata": {},
   "outputs": [
    {
     "data": {
      "text/plain": [
       "count    167.000000\n",
       "mean       7.205676\n",
       "std        7.458896\n",
       "min       -4.210000\n",
       "25%        1.810000\n",
       "50%        5.390000\n",
       "75%       10.350000\n",
       "90%       16.600000\n",
       "95%       20.770000\n",
       "99%       30.818000\n",
       "max       45.900000\n",
       "Name: inflation, dtype: float64"
      ]
     },
     "execution_count": 182,
     "metadata": {},
     "output_type": "execute_result"
    }
   ],
   "source": [
    "data['inflation'].describe(percentiles=[.25,.5,.75,.90,.95,.99])"
   ]
  },
  {
   "cell_type": "code",
   "execution_count": 183,
   "metadata": {},
   "outputs": [],
   "source": [
    "#feature variable\n",
    "data_x=data.drop('country',axis=1)\n",
    "#response variable\n",
    "data_y=data['country']"
   ]
  },
  {
   "cell_type": "code",
   "execution_count": 184,
   "metadata": {},
   "outputs": [],
   "source": [
    "normalized_data_x=(data_x-data_x.mean())/data_x.std()"
   ]
  },
  {
   "cell_type": "code",
   "execution_count": 185,
   "metadata": {},
   "outputs": [
    {
     "data": {
      "text/html": [
       "<div>\n",
       "<style scoped>\n",
       "    .dataframe tbody tr th:only-of-type {\n",
       "        vertical-align: middle;\n",
       "    }\n",
       "\n",
       "    .dataframe tbody tr th {\n",
       "        vertical-align: top;\n",
       "    }\n",
       "\n",
       "    .dataframe thead th {\n",
       "        text-align: right;\n",
       "    }\n",
       "</style>\n",
       "<table border=\"1\" class=\"dataframe\">\n",
       "  <thead>\n",
       "    <tr style=\"text-align: right;\">\n",
       "      <th></th>\n",
       "      <th>child_mort</th>\n",
       "      <th>exports</th>\n",
       "      <th>health</th>\n",
       "      <th>imports</th>\n",
       "      <th>income</th>\n",
       "      <th>inflation</th>\n",
       "      <th>life_expec</th>\n",
       "      <th>total_fer</th>\n",
       "      <th>gdpp</th>\n",
       "    </tr>\n",
       "  </thead>\n",
       "  <tbody>\n",
       "    <tr>\n",
       "      <th>0</th>\n",
       "      <td>1.287660</td>\n",
       "      <td>-1.134867</td>\n",
       "      <td>0.278251</td>\n",
       "      <td>-0.082208</td>\n",
       "      <td>-0.805822</td>\n",
       "      <td>0.299552</td>\n",
       "      <td>-1.614237</td>\n",
       "      <td>1.897176</td>\n",
       "      <td>-0.677143</td>\n",
       "    </tr>\n",
       "    <tr>\n",
       "      <th>1</th>\n",
       "      <td>-0.537333</td>\n",
       "      <td>-0.478220</td>\n",
       "      <td>-0.096725</td>\n",
       "      <td>0.070624</td>\n",
       "      <td>-0.374243</td>\n",
       "      <td>-0.364085</td>\n",
       "      <td>0.645924</td>\n",
       "      <td>-0.857394</td>\n",
       "      <td>-0.484167</td>\n",
       "    </tr>\n",
       "    <tr>\n",
       "      <th>2</th>\n",
       "      <td>-0.272015</td>\n",
       "      <td>-0.098824</td>\n",
       "      <td>-0.963176</td>\n",
       "      <td>-0.639838</td>\n",
       "      <td>-0.220182</td>\n",
       "      <td>1.192445</td>\n",
       "      <td>0.668413</td>\n",
       "      <td>-0.038289</td>\n",
       "      <td>-0.463980</td>\n",
       "    </tr>\n",
       "    <tr>\n",
       "      <th>3</th>\n",
       "      <td>2.001787</td>\n",
       "      <td>0.773056</td>\n",
       "      <td>-1.443729</td>\n",
       "      <td>-0.164820</td>\n",
       "      <td>-0.583289</td>\n",
       "      <td>2.037074</td>\n",
       "      <td>-1.175698</td>\n",
       "      <td>2.121770</td>\n",
       "      <td>-0.514720</td>\n",
       "    </tr>\n",
       "    <tr>\n",
       "      <th>4</th>\n",
       "      <td>-0.693548</td>\n",
       "      <td>0.160186</td>\n",
       "      <td>-0.286034</td>\n",
       "      <td>0.496076</td>\n",
       "      <td>0.101427</td>\n",
       "      <td>-0.772993</td>\n",
       "      <td>0.702147</td>\n",
       "      <td>-0.540321</td>\n",
       "      <td>-0.041692</td>\n",
       "    </tr>\n",
       "  </tbody>\n",
       "</table>\n",
       "</div>"
      ],
      "text/plain": [
       "   child_mort   exports    health   imports    income  inflation  life_expec  \\\n",
       "0    1.287660 -1.134867  0.278251 -0.082208 -0.805822   0.299552   -1.614237   \n",
       "1   -0.537333 -0.478220 -0.096725  0.070624 -0.374243  -0.364085    0.645924   \n",
       "2   -0.272015 -0.098824 -0.963176 -0.639838 -0.220182   1.192445    0.668413   \n",
       "3    2.001787  0.773056 -1.443729 -0.164820 -0.583289   2.037074   -1.175698   \n",
       "4   -0.693548  0.160186 -0.286034  0.496076  0.101427  -0.772993    0.702147   \n",
       "\n",
       "   total_fer      gdpp  \n",
       "0   1.897176 -0.677143  \n",
       "1  -0.857394 -0.484167  \n",
       "2  -0.038289 -0.463980  \n",
       "3   2.121770 -0.514720  \n",
       "4  -0.540321 -0.041692  "
      ]
     },
     "execution_count": 185,
     "metadata": {},
     "output_type": "execute_result"
    }
   ],
   "source": [
    "normalized_data_x.head()"
   ]
  },
  {
   "cell_type": "markdown",
   "metadata": {},
   "source": [
    "### performing pca"
   ]
  },
  {
   "cell_type": "code",
   "execution_count": 186,
   "metadata": {},
   "outputs": [
    {
     "data": {
      "text/plain": [
       "(167, 9)"
      ]
     },
     "execution_count": 186,
     "metadata": {},
     "output_type": "execute_result"
    }
   ],
   "source": [
    "normalized_data_x.shape"
   ]
  },
  {
   "cell_type": "code",
   "execution_count": 187,
   "metadata": {},
   "outputs": [],
   "source": [
    "from sklearn.decomposition import PCA"
   ]
  },
  {
   "cell_type": "code",
   "execution_count": 188,
   "metadata": {},
   "outputs": [],
   "source": [
    "pca=PCA(random_state=50)"
   ]
  },
  {
   "cell_type": "code",
   "execution_count": 189,
   "metadata": {},
   "outputs": [
    {
     "data": {
      "text/plain": [
       "PCA(copy=True, iterated_power='auto', n_components=None, random_state=50,\n",
       "    svd_solver='auto', tol=0.0, whiten=False)"
      ]
     },
     "execution_count": 189,
     "metadata": {},
     "output_type": "execute_result"
    }
   ],
   "source": [
    "pca.fit(normalized_data_x)"
   ]
  },
  {
   "cell_type": "code",
   "execution_count": 190,
   "metadata": {},
   "outputs": [
    {
     "data": {
      "text/plain": [
       "array([[-0.41596866,  0.28350514,  0.1544384 ,  0.16194018,  0.39887249,\n",
       "        -0.19593914,  0.42570362, -0.4021747 ,  0.39504379],\n",
       "       [ 0.19371429,  0.61288031, -0.24164017,  0.67214968,  0.02245272,\n",
       "        -0.00974979, -0.22305593,  0.15572868, -0.04552774],\n",
       "       [-0.12945096,  0.14312286, -0.65302901, -0.26420269,  0.21371548,\n",
       "         0.62997918,  0.14176904, -0.06190272,  0.00546581],\n",
       "       [ 0.37498776,  0.02761711,  0.23843168, -0.18002131,  0.4816756 ,\n",
       "         0.15697008, -0.19379876,  0.39895915,  0.56212702],\n",
       "       [-0.14246633,  0.05852592,  0.59966673,  0.2373312 , -0.16298614,\n",
       "         0.72122926,  0.0356355 , -0.05544264, -0.09629063],\n",
       "       [ 0.18974545, -0.06387258,  0.00853092, -0.02840456,  0.16739882,\n",
       "         0.05858244, -0.61341689, -0.74224525,  0.01935999],\n",
       "       [-0.18735142, -0.69921054, -0.23391777,  0.57871435,  0.13918357,\n",
       "         0.09379899, -0.06265334,  0.08368382,  0.21743389],\n",
       "       [ 0.66907883, -0.09378969, -0.08566615,  0.12783696, -0.31484293,\n",
       "         0.08561002,  0.50247313, -0.29930873,  0.26708785],\n",
       "       [ 0.30496631, -0.1325097 ,  0.11284097,  0.10674239,  0.62420024,\n",
       "        -0.0163876 ,  0.27822871, -0.02032598, -0.63054806]])"
      ]
     },
     "execution_count": 190,
     "metadata": {},
     "output_type": "execute_result"
    }
   ],
   "source": [
    "pca.components_"
   ]
  },
  {
   "cell_type": "code",
   "execution_count": 191,
   "metadata": {},
   "outputs": [
    {
     "data": {
      "text/plain": [
       "array([0.45990859, 0.17181749, 0.13509854, 0.10784799, 0.07093037,\n",
       "       0.02491494, 0.01268166, 0.00933932, 0.0074611 ])"
      ]
     },
     "execution_count": 191,
     "metadata": {},
     "output_type": "execute_result"
    }
   ],
   "source": [
    "pca.explained_variance_ratio_"
   ]
  },
  {
   "cell_type": "code",
   "execution_count": 192,
   "metadata": {},
   "outputs": [],
   "source": [
    "cum_var = np.cumsum(pca.explained_variance_ratio_)"
   ]
  },
  {
   "cell_type": "code",
   "execution_count": 193,
   "metadata": {},
   "outputs": [
    {
     "data": {
      "text/plain": [
       "array([0.45990859, 0.63172608, 0.76682462, 0.87467261, 0.94560299,\n",
       "       0.97051792, 0.98319958, 0.9925389 , 1.        ])"
      ]
     },
     "execution_count": 193,
     "metadata": {},
     "output_type": "execute_result"
    }
   ],
   "source": [
    "cum_var"
   ]
  },
  {
   "cell_type": "code",
   "execution_count": 194,
   "metadata": {},
   "outputs": [
    {
     "data": {
      "image/png": "[encoded data removed]",
      "text/plain": [
       "<Figure size 864x576 with 1 Axes>"
      ]
     },
     "metadata": {
      "needs_background": "light"
     },
     "output_type": "display_data"
    }
   ],
   "source": [
    "fig = plt.figure(figsize=[12,8])\n",
    "plt.vlines(x=5, ymax=1, ymin=0, colors=\"b\", linestyles=\"--\")\n",
    "plt.hlines(y=0.95, xmax=9, xmin=0, colors=\"g\", linestyles=\"--\")\n",
    "plt.plot(cum_var)\n",
    "plt.ylabel(\"Cumulative variance explained\")\n",
    "plt.show()"
   ]
  },
  {
   "cell_type": "markdown",
   "metadata": {},
   "source": [
    "95% variation is explained with 5 components so let's perform pca with 5 components"
   ]
  },
  {
   "cell_type": "code",
   "execution_count": 195,
   "metadata": {},
   "outputs": [],
   "source": [
    "from sklearn.decomposition import IncrementalPCA"
   ]
  },
  {
   "cell_type": "code",
   "execution_count": 196,
   "metadata": {},
   "outputs": [],
   "source": [
    "pca_final = IncrementalPCA(n_components=5)"
   ]
  },
  {
   "cell_type": "code",
   "execution_count": 197,
   "metadata": {},
   "outputs": [],
   "source": [
    "data_pca=pca_final.fit_transform(normalized_data_x)"
   ]
  },
  {
   "cell_type": "code",
   "execution_count": 198,
   "metadata": {},
   "outputs": [
    {
     "data": {
      "text/plain": [
       "array([[-0.41625784,  0.28352326,  0.15442966,  0.16200883,  0.39886096,\n",
       "        -0.19605548,  0.42572469, -0.4017719 ,  0.39504254],\n",
       "       [ 0.19424902,  0.61257807, -0.24251822,  0.67201914,  0.02331641,\n",
       "        -0.0075396 , -0.2251137 ,  0.15250518, -0.04534426],\n",
       "       [ 0.131638  , -0.1452354 ,  0.65258673,  0.26848847, -0.21362313,\n",
       "        -0.6275503 , -0.14407479,  0.05829902, -0.00347539],\n",
       "       [ 0.37566608,  0.02895897,  0.23818942, -0.181282  ,  0.48138135,\n",
       "         0.15664623, -0.1930587 ,  0.39901502,  0.56186147],\n",
       "       [-0.15030437,  0.06657223,  0.60096594,  0.23110196, -0.16558152,\n",
       "         0.71924208,  0.04937994, -0.03467491, -0.10020687]])"
      ]
     },
     "execution_count": 198,
     "metadata": {},
     "output_type": "execute_result"
    }
   ],
   "source": [
    "pca_final.components_"
   ]
  },
  {
   "cell_type": "code",
   "execution_count": 199,
   "metadata": {},
   "outputs": [
    {
     "data": {
      "text/plain": [
       "(167, 5)"
      ]
     },
     "execution_count": 199,
     "metadata": {},
     "output_type": "execute_result"
    }
   ],
   "source": [
    "data_pca.shape"
   ]
  },
  {
   "cell_type": "code",
   "execution_count": 200,
   "metadata": {},
   "outputs": [],
   "source": [
    "corrmat = np.corrcoef(data_pca.transpose())"
   ]
  },
  {
   "cell_type": "code",
   "execution_count": 201,
   "metadata": {},
   "outputs": [
    {
     "data": {
      "text/plain": [
       "<matplotlib.axes._subplots.AxesSubplot at 0x1d5b8b4be10>"
      ]
     },
     "execution_count": 201,
     "metadata": {},
     "output_type": "execute_result"
    },
    {
     "data": {
      "image/png": "[encoded data removed]",
      "text/plain": [
       "<Figure size 720x720 with 2 Axes>"
      ]
     },
     "metadata": {
      "needs_background": "light"
     },
     "output_type": "display_data"
    }
   ],
   "source": [
    "plt.figure(figsize=[10,10])\n",
    "sns.heatmap(corrmat, annot=True)"
   ]
  },
  {
   "cell_type": "markdown",
   "metadata": {},
   "source": [
    "# k Means clustering"
   ]
  },
  {
   "cell_type": "code",
   "execution_count": 202,
   "metadata": {},
   "outputs": [
    {
     "data": {
      "text/plain": [
       "KMeans(algorithm='auto', copy_x=True, init='k-means++', max_iter=50,\n",
       "       n_clusters=3, n_init=10, n_jobs=None, precompute_distances='auto',\n",
       "       random_state=None, tol=0.0001, verbose=0)"
      ]
     },
     "execution_count": 202,
     "metadata": {},
     "output_type": "execute_result"
    }
   ],
   "source": [
    "#dividing into three clusters to label countries as under_developed,developing and developed\n",
    "kmeans = KMeans(n_clusters=3, max_iter=50)\n",
    "kmeans.fit(data_pca)"
   ]
  },
  {
   "cell_type": "code",
   "execution_count": 203,
   "metadata": {},
   "outputs": [
    {
     "data": {
      "text/plain": [
       "array([1, 0, 0, 1, 0, 0, 0, 2, 2, 0, 0, 0, 0, 0, 0, 2, 0, 1, 0, 0, 0, 1,\n",
       "       0, 2, 0, 1, 1, 0, 1, 2, 0, 1, 1, 0, 0, 0, 1, 1, 1, 0, 1, 0, 2, 2,\n",
       "       2, 0, 0, 0, 0, 1, 1, 0, 0, 2, 2, 1, 1, 0, 2, 1, 2, 0, 0, 1, 1, 0,\n",
       "       1, 0, 2, 0, 0, 0, 1, 2, 2, 2, 0, 2, 0, 0, 1, 1, 2, 0, 1, 0, 0, 1,\n",
       "       1, 0, 0, 2, 0, 1, 1, 0, 0, 1, 2, 1, 0, 0, 0, 0, 0, 0, 1, 0, 1, 0,\n",
       "       2, 2, 1, 1, 2, 0, 1, 0, 0, 0, 0, 0, 2, 2, 0, 0, 1, 0, 0, 1, 0, 0,\n",
       "       1, 2, 2, 2, 0, 1, 2, 2, 0, 0, 1, 0, 2, 2, 0, 1, 0, 1, 1, 0, 0, 0,\n",
       "       0, 1, 0, 2, 2, 2, 0, 0, 0, 0, 0, 1, 1])"
      ]
     },
     "execution_count": 203,
     "metadata": {},
     "output_type": "execute_result"
    }
   ],
   "source": [
    "kmeans.labels_"
   ]
  },
  {
   "cell_type": "code",
   "execution_count": 204,
   "metadata": {},
   "outputs": [
    {
     "data": {
      "text/html": [
       "<div>\n",
       "<style scoped>\n",
       "    .dataframe tbody tr th:only-of-type {\n",
       "        vertical-align: middle;\n",
       "    }\n",
       "\n",
       "    .dataframe tbody tr th {\n",
       "        vertical-align: top;\n",
       "    }\n",
       "\n",
       "    .dataframe thead th {\n",
       "        text-align: right;\n",
       "    }\n",
       "</style>\n",
       "<table border=\"1\" class=\"dataframe\">\n",
       "  <thead>\n",
       "    <tr style=\"text-align: right;\">\n",
       "      <th></th>\n",
       "      <th>country</th>\n",
       "      <th>child_mort</th>\n",
       "      <th>exports</th>\n",
       "      <th>health</th>\n",
       "      <th>imports</th>\n",
       "      <th>income</th>\n",
       "      <th>inflation</th>\n",
       "      <th>life_expec</th>\n",
       "      <th>total_fer</th>\n",
       "      <th>gdpp</th>\n",
       "      <th>cluster_id_k_means</th>\n",
       "    </tr>\n",
       "  </thead>\n",
       "  <tbody>\n",
       "    <tr>\n",
       "      <th>0</th>\n",
       "      <td>Afghanistan</td>\n",
       "      <td>90.2</td>\n",
       "      <td>10.0</td>\n",
       "      <td>7.58</td>\n",
       "      <td>44.9</td>\n",
       "      <td>1610</td>\n",
       "      <td>9.44</td>\n",
       "      <td>56.2</td>\n",
       "      <td>5.82</td>\n",
       "      <td>553</td>\n",
       "      <td>1</td>\n",
       "    </tr>\n",
       "    <tr>\n",
       "      <th>1</th>\n",
       "      <td>Albania</td>\n",
       "      <td>16.6</td>\n",
       "      <td>28.0</td>\n",
       "      <td>6.55</td>\n",
       "      <td>48.6</td>\n",
       "      <td>9930</td>\n",
       "      <td>4.49</td>\n",
       "      <td>76.3</td>\n",
       "      <td>1.65</td>\n",
       "      <td>4090</td>\n",
       "      <td>0</td>\n",
       "    </tr>\n",
       "    <tr>\n",
       "      <th>2</th>\n",
       "      <td>Algeria</td>\n",
       "      <td>27.3</td>\n",
       "      <td>38.4</td>\n",
       "      <td>4.17</td>\n",
       "      <td>31.4</td>\n",
       "      <td>12900</td>\n",
       "      <td>16.10</td>\n",
       "      <td>76.5</td>\n",
       "      <td>2.89</td>\n",
       "      <td>4460</td>\n",
       "      <td>0</td>\n",
       "    </tr>\n",
       "    <tr>\n",
       "      <th>3</th>\n",
       "      <td>Angola</td>\n",
       "      <td>119.0</td>\n",
       "      <td>62.3</td>\n",
       "      <td>2.85</td>\n",
       "      <td>42.9</td>\n",
       "      <td>5900</td>\n",
       "      <td>22.40</td>\n",
       "      <td>60.1</td>\n",
       "      <td>6.16</td>\n",
       "      <td>3530</td>\n",
       "      <td>1</td>\n",
       "    </tr>\n",
       "    <tr>\n",
       "      <th>4</th>\n",
       "      <td>Antigua and Barbuda</td>\n",
       "      <td>10.3</td>\n",
       "      <td>45.5</td>\n",
       "      <td>6.03</td>\n",
       "      <td>58.9</td>\n",
       "      <td>19100</td>\n",
       "      <td>1.44</td>\n",
       "      <td>76.8</td>\n",
       "      <td>2.13</td>\n",
       "      <td>12200</td>\n",
       "      <td>0</td>\n",
       "    </tr>\n",
       "  </tbody>\n",
       "</table>\n",
       "</div>"
      ],
      "text/plain": [
       "               country  child_mort  exports  health  imports  income  \\\n",
       "0          Afghanistan        90.2     10.0    7.58     44.9    1610   \n",
       "1              Albania        16.6     28.0    6.55     48.6    9930   \n",
       "2              Algeria        27.3     38.4    4.17     31.4   12900   \n",
       "3               Angola       119.0     62.3    2.85     42.9    5900   \n",
       "4  Antigua and Barbuda        10.3     45.5    6.03     58.9   19100   \n",
       "\n",
       "   inflation  life_expec  total_fer   gdpp  cluster_id_k_means  \n",
       "0       9.44        56.2       5.82    553                   1  \n",
       "1       4.49        76.3       1.65   4090                   0  \n",
       "2      16.10        76.5       2.89   4460                   0  \n",
       "3      22.40        60.1       6.16   3530                   1  \n",
       "4       1.44        76.8       2.13  12200                   0  "
      ]
     },
     "execution_count": 204,
     "metadata": {},
     "output_type": "execute_result"
    }
   ],
   "source": [
    "# assign the label to original data\n",
    "data['cluster_id_k_means'] = kmeans.labels_\n",
    "data.head()"
   ]
  },
  {
   "cell_type": "code",
   "execution_count": 205,
   "metadata": {
    "scrolled": true
   },
   "outputs": [
    {
     "data": {
      "text/plain": [
       "<matplotlib.axes._subplots.AxesSubplot at 0x1d5b90fd400>"
      ]
     },
     "execution_count": 205,
     "metadata": {},
     "output_type": "execute_result"
    },
    {
     "data": {
      "image/png": "[encoded data removed]",
      "text/plain": [
       "<Figure size 432x288 with 1 Axes>"
      ]
     },
     "metadata": {
      "needs_background": "light"
     },
     "output_type": "display_data"
    }
   ],
   "source": [
    "sns.boxplot(x='cluster_id_k_means', y='gdpp', data=data)"
   ]
  },
  {
   "cell_type": "code",
   "execution_count": 206,
   "metadata": {},
   "outputs": [
    {
     "data": {
      "text/plain": [
       "<matplotlib.axes._subplots.AxesSubplot at 0x1d5b9153b00>"
      ]
     },
     "execution_count": 206,
     "metadata": {},
     "output_type": "execute_result"
    },
    {
     "data": {
      "image/png": "[encoded data removed]",
      "text/plain": [
       "<Figure size 432x288 with 1 Axes>"
      ]
     },
     "metadata": {
      "needs_background": "light"
     },
     "output_type": "display_data"
    }
   ],
   "source": [
    "sns.boxplot(x='cluster_id_k_means', y='child_mort', data=data)"
   ]
  },
  {
   "cell_type": "code",
   "execution_count": 207,
   "metadata": {},
   "outputs": [
    {
     "data": {
      "text/plain": [
       "<matplotlib.axes._subplots.AxesSubplot at 0x1d5b938b940>"
      ]
     },
     "execution_count": 207,
     "metadata": {},
     "output_type": "execute_result"
    },
    {
     "data": {
      "image/png": "[encoded data removed]",
      "text/plain": [
       "<Figure size 432x288 with 1 Axes>"
      ]
     },
     "metadata": {
      "needs_background": "light"
     },
     "output_type": "display_data"
    }
   ],
   "source": [
    "sns.boxplot(x='cluster_id_k_means', y='income', data=data)"
   ]
  },
  {
   "cell_type": "markdown",
   "metadata": {},
   "source": [
    "cluster_id 1 countries has very low gdpp,high child_mort and least income hence thet are in the dire need "
   ]
  },
  {
   "cell_type": "code",
   "execution_count": 208,
   "metadata": {},
   "outputs": [],
   "source": [
    "data_pca_clusters=pd.DataFrame(data_pca)\n",
    "data_pca_clusters.columns=['c1','c2','c3','c4','c5']"
   ]
  },
  {
   "cell_type": "code",
   "execution_count": 209,
   "metadata": {},
   "outputs": [
    {
     "data": {
      "text/html": [
       "<div>\n",
       "<style scoped>\n",
       "    .dataframe tbody tr th:only-of-type {\n",
       "        vertical-align: middle;\n",
       "    }\n",
       "\n",
       "    .dataframe tbody tr th {\n",
       "        vertical-align: top;\n",
       "    }\n",
       "\n",
       "    .dataframe thead th {\n",
       "        text-align: right;\n",
       "    }\n",
       "</style>\n",
       "<table border=\"1\" class=\"dataframe\">\n",
       "  <thead>\n",
       "    <tr style=\"text-align: right;\">\n",
       "      <th></th>\n",
       "      <th>c1</th>\n",
       "      <th>c2</th>\n",
       "      <th>c3</th>\n",
       "      <th>c4</th>\n",
       "      <th>c5</th>\n",
       "    </tr>\n",
       "  </thead>\n",
       "  <tbody>\n",
       "    <tr>\n",
       "      <th>0</th>\n",
       "      <td>-2.925200</td>\n",
       "      <td>0.094579</td>\n",
       "      <td>0.823525</td>\n",
       "      <td>0.879245</td>\n",
       "      <td>0.150368</td>\n",
       "    </tr>\n",
       "    <tr>\n",
       "      <th>1</th>\n",
       "      <td>0.434893</td>\n",
       "      <td>-0.586595</td>\n",
       "      <td>0.121626</td>\n",
       "      <td>-1.227584</td>\n",
       "      <td>-0.082635</td>\n",
       "    </tr>\n",
       "    <tr>\n",
       "      <th>2</th>\n",
       "      <td>-0.372149</td>\n",
       "      <td>-0.459166</td>\n",
       "      <td>-1.620004</td>\n",
       "      <td>-0.542689</td>\n",
       "      <td>0.282545</td>\n",
       "    </tr>\n",
       "    <tr>\n",
       "      <th>3</th>\n",
       "      <td>-3.052096</td>\n",
       "      <td>1.684398</td>\n",
       "      <td>-1.694062</td>\n",
       "      <td>1.283099</td>\n",
       "      <td>0.326547</td>\n",
       "    </tr>\n",
       "    <tr>\n",
       "      <th>4</th>\n",
       "      <td>1.061850</td>\n",
       "      <td>0.135765</td>\n",
       "      <td>0.162875</td>\n",
       "      <td>-0.860802</td>\n",
       "      <td>-0.457524</td>\n",
       "    </tr>\n",
       "  </tbody>\n",
       "</table>\n",
       "</div>"
      ],
      "text/plain": [
       "         c1        c2        c3        c4        c5\n",
       "0 -2.925200  0.094579  0.823525  0.879245  0.150368\n",
       "1  0.434893 -0.586595  0.121626 -1.227584 -0.082635\n",
       "2 -0.372149 -0.459166 -1.620004 -0.542689  0.282545\n",
       "3 -3.052096  1.684398 -1.694062  1.283099  0.326547\n",
       "4  1.061850  0.135765  0.162875 -0.860802 -0.457524"
      ]
     },
     "execution_count": 209,
     "metadata": {},
     "output_type": "execute_result"
    }
   ],
   "source": [
    "data_pca_clusters.head()"
   ]
  },
  {
   "cell_type": "code",
   "execution_count": 210,
   "metadata": {
    "scrolled": true
   },
   "outputs": [],
   "source": [
    "#assigning labels to pca data\n",
    "data_pca_clusters['cluster_id_k_means']=kmeans.labels_"
   ]
  },
  {
   "cell_type": "code",
   "execution_count": 211,
   "metadata": {},
   "outputs": [],
   "source": [
    "data_pca_clusters['country']=data['country']"
   ]
  },
  {
   "cell_type": "code",
   "execution_count": 213,
   "metadata": {},
   "outputs": [
    {
     "data": {
      "image/png": "[encoded data removed]",
      "text/plain": [
       "<Figure size 432x288 with 1 Axes>"
      ]
     },
     "metadata": {
      "needs_background": "light"
     },
     "output_type": "display_data"
    }
   ],
   "source": [
    "sns.scatterplot(x='c1',y='c2',data=data_pca_clusters,hue='cluster_id_k_means',palette='Set2')\n",
    "plt.title('k means cluster visualization on two principal components')\n",
    "plt.show()"
   ]
  },
  {
   "cell_type": "code",
   "execution_count": 222,
   "metadata": {},
   "outputs": [
    {
     "data": {
      "image/png": "[encoded data removed]",
      "text/plain": [
       "<Figure size 432x288 with 1 Axes>"
      ]
     },
     "metadata": {
      "needs_background": "light"
     },
     "output_type": "display_data"
    }
   ],
   "source": [
    "sns.scatterplot(x='income',y='child_mort',data=data,hue='cluster_id_k_means',palette='Set3')\n",
    "plt.title('k means cluster visualization on income and child mortality')\n",
    "plt.show()"
   ]
  },
  {
   "cell_type": "markdown",
   "metadata": {},
   "source": [
    "# Hierarchical Clustering"
   ]
  },
  {
   "cell_type": "code",
   "execution_count": 165,
   "metadata": {},
   "outputs": [
    {
     "data": {
      "image/png": "[encoded data removed]",
      "text/plain": [
       "<Figure size 432x288 with 1 Axes>"
      ]
     },
     "metadata": {
      "needs_background": "light"
     },
     "output_type": "display_data"
    }
   ],
   "source": [
    "# single linkage\n",
    "mergings_single = linkage(data_pca, method=\"single\", metric='euclidean')\n",
    "dendrogram(mergings_single)\n",
    "plt.show()"
   ]
  },
  {
   "cell_type": "code",
   "execution_count": 166,
   "metadata": {},
   "outputs": [
    {
     "data": {
      "image/png": "[encoded data removed]",
      "text/plain": [
       "<Figure size 432x288 with 1 Axes>"
      ]
     },
     "metadata": {
      "needs_background": "light"
     },
     "output_type": "display_data"
    }
   ],
   "source": [
    "# complete linkage\n",
    "mergings_complete = linkage(data_pca, method=\"complete\", metric='euclidean')\n",
    "dendrogram(mergings_complete)\n",
    "plt.show()"
   ]
  },
  {
   "cell_type": "code",
   "execution_count": 168,
   "metadata": {},
   "outputs": [
    {
     "data": {
      "text/plain": [
       "array([0, 1, 1, 0, 1, 1, 1, 1, 1, 1, 1, 1, 1, 1, 1, 1, 1, 0, 1, 1, 1, 0,\n",
       "       1, 1, 1, 0, 0, 1, 0, 1, 1, 0, 0, 1, 1, 1, 0, 0, 0, 1, 0, 1, 1, 1,\n",
       "       1, 1, 1, 1, 1, 0, 1, 1, 1, 1, 1, 0, 0, 1, 1, 0, 1, 1, 1, 0, 0, 1,\n",
       "       0, 1, 1, 1, 1, 1, 0, 1, 1, 1, 1, 1, 1, 1, 0, 0, 1, 1, 0, 1, 1, 0,\n",
       "       0, 1, 1, 2, 1, 0, 0, 1, 1, 0, 2, 0, 1, 0, 1, 1, 1, 1, 0, 1, 0, 0,\n",
       "       1, 1, 0, 0, 1, 1, 1, 1, 1, 1, 1, 1, 1, 1, 1, 1, 0, 1, 1, 0, 1, 1,\n",
       "       0, 2, 1, 1, 0, 0, 1, 1, 1, 1, 0, 1, 1, 1, 0, 0, 1, 0, 0, 1, 1, 1,\n",
       "       1, 0, 1, 1, 1, 1, 1, 0, 1, 1, 1, 0, 0])"
      ]
     },
     "execution_count": 168,
     "metadata": {},
     "output_type": "execute_result"
    }
   ],
   "source": [
    "# 3 clusters\n",
    "cluster_labels_complete = cut_tree(mergings_complete, n_clusters=3).reshape(-1, )\n",
    "cluster_labels_complete"
   ]
  },
  {
   "cell_type": "code",
   "execution_count": 214,
   "metadata": {},
   "outputs": [
    {
     "data": {
      "text/plain": [
       "array([0, 0, 0, 0, 0, 0, 0, 0, 0, 0, 0, 0, 0, 0, 0, 0, 0, 0, 0, 0, 0, 0,\n",
       "       0, 0, 0, 0, 0, 0, 0, 0, 0, 0, 0, 0, 0, 0, 0, 0, 0, 0, 0, 0, 0, 0,\n",
       "       0, 0, 0, 0, 0, 0, 0, 0, 0, 0, 0, 0, 0, 0, 0, 0, 0, 0, 0, 0, 0, 0,\n",
       "       0, 0, 0, 0, 0, 0, 0, 0, 0, 0, 0, 0, 0, 0, 0, 0, 0, 0, 0, 0, 0, 0,\n",
       "       0, 0, 0, 1, 0, 0, 0, 0, 0, 0, 2, 0, 0, 0, 0, 0, 0, 0, 0, 0, 0, 0,\n",
       "       0, 0, 0, 0, 0, 0, 0, 0, 0, 0, 0, 0, 0, 0, 0, 0, 0, 0, 0, 0, 0, 0,\n",
       "       0, 2, 0, 0, 0, 0, 0, 0, 0, 0, 0, 0, 0, 0, 0, 0, 0, 0, 0, 0, 0, 0,\n",
       "       0, 0, 0, 0, 0, 0, 0, 0, 0, 0, 0, 0, 0])"
      ]
     },
     "execution_count": 214,
     "metadata": {},
     "output_type": "execute_result"
    }
   ],
   "source": [
    "cluster_labels_single = cut_tree(mergings_single, n_clusters=3).reshape(-1, )\n",
    "cluster_labels_single"
   ]
  },
  {
   "cell_type": "markdown",
   "metadata": {},
   "source": [
    "It can be clearly analysed that single linkage clustering is not giving correct results, most of the countries lying in the same clusters except theree countries"
   ]
  },
  {
   "cell_type": "code",
   "execution_count": 215,
   "metadata": {
    "scrolled": true
   },
   "outputs": [
    {
     "data": {
      "text/html": [
       "<div>\n",
       "<style scoped>\n",
       "    .dataframe tbody tr th:only-of-type {\n",
       "        vertical-align: middle;\n",
       "    }\n",
       "\n",
       "    .dataframe tbody tr th {\n",
       "        vertical-align: top;\n",
       "    }\n",
       "\n",
       "    .dataframe thead th {\n",
       "        text-align: right;\n",
       "    }\n",
       "</style>\n",
       "<table border=\"1\" class=\"dataframe\">\n",
       "  <thead>\n",
       "    <tr style=\"text-align: right;\">\n",
       "      <th></th>\n",
       "      <th>country</th>\n",
       "      <th>child_mort</th>\n",
       "      <th>exports</th>\n",
       "      <th>health</th>\n",
       "      <th>imports</th>\n",
       "      <th>income</th>\n",
       "      <th>inflation</th>\n",
       "      <th>life_expec</th>\n",
       "      <th>total_fer</th>\n",
       "      <th>gdpp</th>\n",
       "      <th>cluster_id_k_means</th>\n",
       "      <th>cluster_id_hierarchical</th>\n",
       "    </tr>\n",
       "  </thead>\n",
       "  <tbody>\n",
       "    <tr>\n",
       "      <th>0</th>\n",
       "      <td>Afghanistan</td>\n",
       "      <td>90.2</td>\n",
       "      <td>10.0</td>\n",
       "      <td>7.58</td>\n",
       "      <td>44.9</td>\n",
       "      <td>1610</td>\n",
       "      <td>9.44</td>\n",
       "      <td>56.2</td>\n",
       "      <td>5.82</td>\n",
       "      <td>553</td>\n",
       "      <td>1</td>\n",
       "      <td>0</td>\n",
       "    </tr>\n",
       "    <tr>\n",
       "      <th>1</th>\n",
       "      <td>Albania</td>\n",
       "      <td>16.6</td>\n",
       "      <td>28.0</td>\n",
       "      <td>6.55</td>\n",
       "      <td>48.6</td>\n",
       "      <td>9930</td>\n",
       "      <td>4.49</td>\n",
       "      <td>76.3</td>\n",
       "      <td>1.65</td>\n",
       "      <td>4090</td>\n",
       "      <td>0</td>\n",
       "      <td>1</td>\n",
       "    </tr>\n",
       "    <tr>\n",
       "      <th>2</th>\n",
       "      <td>Algeria</td>\n",
       "      <td>27.3</td>\n",
       "      <td>38.4</td>\n",
       "      <td>4.17</td>\n",
       "      <td>31.4</td>\n",
       "      <td>12900</td>\n",
       "      <td>16.10</td>\n",
       "      <td>76.5</td>\n",
       "      <td>2.89</td>\n",
       "      <td>4460</td>\n",
       "      <td>0</td>\n",
       "      <td>1</td>\n",
       "    </tr>\n",
       "    <tr>\n",
       "      <th>3</th>\n",
       "      <td>Angola</td>\n",
       "      <td>119.0</td>\n",
       "      <td>62.3</td>\n",
       "      <td>2.85</td>\n",
       "      <td>42.9</td>\n",
       "      <td>5900</td>\n",
       "      <td>22.40</td>\n",
       "      <td>60.1</td>\n",
       "      <td>6.16</td>\n",
       "      <td>3530</td>\n",
       "      <td>1</td>\n",
       "      <td>0</td>\n",
       "    </tr>\n",
       "    <tr>\n",
       "      <th>4</th>\n",
       "      <td>Antigua and Barbuda</td>\n",
       "      <td>10.3</td>\n",
       "      <td>45.5</td>\n",
       "      <td>6.03</td>\n",
       "      <td>58.9</td>\n",
       "      <td>19100</td>\n",
       "      <td>1.44</td>\n",
       "      <td>76.8</td>\n",
       "      <td>2.13</td>\n",
       "      <td>12200</td>\n",
       "      <td>0</td>\n",
       "      <td>1</td>\n",
       "    </tr>\n",
       "  </tbody>\n",
       "</table>\n",
       "</div>"
      ],
      "text/plain": [
       "               country  child_mort  exports  health  imports  income  \\\n",
       "0          Afghanistan        90.2     10.0    7.58     44.9    1610   \n",
       "1              Albania        16.6     28.0    6.55     48.6    9930   \n",
       "2              Algeria        27.3     38.4    4.17     31.4   12900   \n",
       "3               Angola       119.0     62.3    2.85     42.9    5900   \n",
       "4  Antigua and Barbuda        10.3     45.5    6.03     58.9   19100   \n",
       "\n",
       "   inflation  life_expec  total_fer   gdpp  cluster_id_k_means  \\\n",
       "0       9.44        56.2       5.82    553                   1   \n",
       "1       4.49        76.3       1.65   4090                   0   \n",
       "2      16.10        76.5       2.89   4460                   0   \n",
       "3      22.40        60.1       6.16   3530                   1   \n",
       "4       1.44        76.8       2.13  12200                   0   \n",
       "\n",
       "   cluster_id_hierarchical  \n",
       "0                        0  \n",
       "1                        1  \n",
       "2                        1  \n",
       "3                        0  \n",
       "4                        1  "
      ]
     },
     "execution_count": 215,
     "metadata": {},
     "output_type": "execute_result"
    }
   ],
   "source": [
    "# assign the label to original data\n",
    "data['cluster_id_hierarchical'] = cluster_labels_complete\n",
    "data.head()"
   ]
  },
  {
   "cell_type": "code",
   "execution_count": 239,
   "metadata": {},
   "outputs": [
    {
     "data": {
      "text/html": [
       "<div>\n",
       "<style scoped>\n",
       "    .dataframe tbody tr th:only-of-type {\n",
       "        vertical-align: middle;\n",
       "    }\n",
       "\n",
       "    .dataframe tbody tr th {\n",
       "        vertical-align: top;\n",
       "    }\n",
       "\n",
       "    .dataframe thead th {\n",
       "        text-align: right;\n",
       "    }\n",
       "</style>\n",
       "<table border=\"1\" class=\"dataframe\">\n",
       "  <thead>\n",
       "    <tr style=\"text-align: right;\">\n",
       "      <th></th>\n",
       "      <th>country</th>\n",
       "      <th>child_mort</th>\n",
       "      <th>exports</th>\n",
       "      <th>health</th>\n",
       "      <th>imports</th>\n",
       "      <th>income</th>\n",
       "      <th>inflation</th>\n",
       "      <th>life_expec</th>\n",
       "      <th>total_fer</th>\n",
       "      <th>gdpp</th>\n",
       "      <th>cluster_id_k_means</th>\n",
       "      <th>cluster_id_hierarchical</th>\n",
       "    </tr>\n",
       "  </thead>\n",
       "  <tbody>\n",
       "    <tr>\n",
       "      <th>159</th>\n",
       "      <td>United States</td>\n",
       "      <td>7.3</td>\n",
       "      <td>12.4</td>\n",
       "      <td>17.9</td>\n",
       "      <td>15.8</td>\n",
       "      <td>49400</td>\n",
       "      <td>1.22</td>\n",
       "      <td>78.7</td>\n",
       "      <td>1.93</td>\n",
       "      <td>48400</td>\n",
       "      <td>2</td>\n",
       "      <td>1</td>\n",
       "    </tr>\n",
       "  </tbody>\n",
       "</table>\n",
       "</div>"
      ],
      "text/plain": [
       "           country  child_mort  exports  health  imports  income  inflation  \\\n",
       "159  United States         7.3     12.4    17.9     15.8   49400       1.22   \n",
       "\n",
       "     life_expec  total_fer   gdpp  cluster_id_k_means  cluster_id_hierarchical  \n",
       "159        78.7       1.93  48400                   2                        1  "
      ]
     },
     "execution_count": 239,
     "metadata": {},
     "output_type": "execute_result"
    }
   ],
   "source": [
    "data.loc[data['country']=='United States',:]"
   ]
  },
  {
   "cell_type": "code",
   "execution_count": null,
   "metadata": {},
   "outputs": [],
   "source": []
  },
  {
   "cell_type": "code",
   "execution_count": 216,
   "metadata": {},
   "outputs": [
    {
     "data": {
      "text/plain": [
       "<matplotlib.axes._subplots.AxesSubplot at 0x1d5bbd54940>"
      ]
     },
     "execution_count": 216,
     "metadata": {},
     "output_type": "execute_result"
    },
    {
     "data": {
      "image/png": "[encoded data removed]",
      "text/plain": [
       "<Figure size 432x288 with 1 Axes>"
      ]
     },
     "metadata": {
      "needs_background": "light"
     },
     "output_type": "display_data"
    }
   ],
   "source": [
    "sns.boxplot(x='cluster_id_hierarchical', y='gdpp', data=data)"
   ]
  },
  {
   "cell_type": "code",
   "execution_count": 217,
   "metadata": {},
   "outputs": [
    {
     "data": {
      "text/plain": [
       "<matplotlib.axes._subplots.AxesSubplot at 0x1d5bbdce2b0>"
      ]
     },
     "execution_count": 217,
     "metadata": {},
     "output_type": "execute_result"
    },
    {
     "data": {
      "image/png": "[encoded data removed]",
      "text/plain": [
       "<Figure size 432x288 with 1 Axes>"
      ]
     },
     "metadata": {
      "needs_background": "light"
     },
     "output_type": "display_data"
    }
   ],
   "source": [
    "sns.boxplot(x='cluster_id_hierarchical', y='child_mort', data=data)"
   ]
  },
  {
   "cell_type": "code",
   "execution_count": 218,
   "metadata": {},
   "outputs": [
    {
     "data": {
      "text/plain": [
       "<matplotlib.axes._subplots.AxesSubplot at 0x1d5bbe5a3c8>"
      ]
     },
     "execution_count": 218,
     "metadata": {},
     "output_type": "execute_result"
    },
    {
     "data": {
      "image/png": "[encoded data removed]",
      "text/plain": [
       "<Figure size 432x288 with 1 Axes>"
      ]
     },
     "metadata": {
      "needs_background": "light"
     },
     "output_type": "display_data"
    }
   ],
   "source": [
    "sns.boxplot(x='cluster_id_hierarchical', y='income', data=data)"
   ]
  },
  {
   "cell_type": "markdown",
   "metadata": {},
   "source": [
    "cluster_id 0 countries has very low gdpp,high child_mort and least income hence thet are in the dire need "
   ]
  },
  {
   "cell_type": "code",
   "execution_count": 219,
   "metadata": {},
   "outputs": [],
   "source": [
    "data_pca_clusters['cluster_id_hierarchical']=cluster_labels_complete"
   ]
  },
  {
   "cell_type": "code",
   "execution_count": 220,
   "metadata": {},
   "outputs": [
    {
     "data": {
      "image/png": "[encoded data removed]",
      "text/plain": [
       "<Figure size 432x288 with 1 Axes>"
      ]
     },
     "metadata": {
      "needs_background": "light"
     },
     "output_type": "display_data"
    }
   ],
   "source": [
    "sns.scatterplot(x='c1',y='c2',data=data_pca_clusters,hue='cluster_id_hierarchical',palette='Set2')\n",
    "plt.title('hierarchical cluster visualization on two principal components')\n",
    "plt.show()"
   ]
  },
  {
   "cell_type": "code",
   "execution_count": 223,
   "metadata": {},
   "outputs": [
    {
     "data": {
      "image/png": "[encoded data removed]",
      "text/plain": [
       "<Figure size 432x288 with 1 Axes>"
      ]
     },
     "metadata": {
      "needs_background": "light"
     },
     "output_type": "display_data"
    }
   ],
   "source": [
    "sns.scatterplot(x='income',y='child_mort',data=data,hue='cluster_id_hierarchical',palette='Set3')\n",
    "plt.title('hierarchical cluster visualization on income and child mortality')\n",
    "plt.show()"
   ]
  },
  {
   "cell_type": "code",
   "execution_count": 230,
   "metadata": {},
   "outputs": [],
   "source": [
    "k_means_count=data.groupby(by='cluster_id_k_means')['country'].nunique()"
   ]
  },
  {
   "cell_type": "code",
   "execution_count": 231,
   "metadata": {},
   "outputs": [
    {
     "data": {
      "text/plain": [
       "cluster_id_k_means\n",
       "0    85\n",
       "1    47\n",
       "2    35\n",
       "Name: country, dtype: int64"
      ]
     },
     "execution_count": 231,
     "metadata": {},
     "output_type": "execute_result"
    }
   ],
   "source": [
    "k_means_count"
   ]
  },
  {
   "cell_type": "code",
   "execution_count": 232,
   "metadata": {},
   "outputs": [],
   "source": [
    "hierarchical_count=data.groupby(by='cluster_id_hierarchical')['country'].nunique()"
   ]
  },
  {
   "cell_type": "code",
   "execution_count": 233,
   "metadata": {},
   "outputs": [
    {
     "data": {
      "text/plain": [
       "cluster_id_hierarchical\n",
       "0     50\n",
       "1    114\n",
       "2      3\n",
       "Name: country, dtype: int64"
      ]
     },
     "execution_count": 233,
     "metadata": {},
     "output_type": "execute_result"
    }
   ],
   "source": [
    "hierarchical_count"
   ]
  },
  {
   "cell_type": "markdown",
   "metadata": {},
   "source": [
    "#### k means model seems to be more accurate having all most equal number of countries in each clusters\n",
    "hierarchical clustering has only 3 countries as developed countries even united states and many other developed comes under developing country according to hierarchical clustering model while k means seems to giving correct result\n",
    "so going forward with k means clustering model"
   ]
  },
  {
   "cell_type": "markdown",
   "metadata": {},
   "source": [
    "## list of countries where money should be spent"
   ]
  },
  {
   "cell_type": "code",
   "execution_count": 246,
   "metadata": {},
   "outputs": [],
   "source": [
    "final_list=data.loc[data['cluster_id_k_means']==1,'country']"
   ]
  },
  {
   "cell_type": "code",
   "execution_count": 247,
   "metadata": {},
   "outputs": [
    {
     "data": {
      "text/plain": [
       "0                   Afghanistan\n",
       "3                        Angola\n",
       "17                        Benin\n",
       "21                     Botswana\n",
       "25                 Burkina Faso\n",
       "26                      Burundi\n",
       "28                     Cameroon\n",
       "31     Central African Republic\n",
       "32                         Chad\n",
       "36                      Comoros\n",
       "37             Congo, Dem. Rep.\n",
       "38                  Congo, Rep.\n",
       "40                Cote d'Ivoire\n",
       "49            Equatorial Guinea\n",
       "50                      Eritrea\n",
       "55                        Gabon\n",
       "56                       Gambia\n",
       "59                        Ghana\n",
       "63                       Guinea\n",
       "64                Guinea-Bissau\n",
       "66                        Haiti\n",
       "72                         Iraq\n",
       "80                        Kenya\n",
       "81                     Kiribati\n",
       "84                          Lao\n",
       "87                      Lesotho\n",
       "88                      Liberia\n",
       "93                   Madagascar\n",
       "94                       Malawi\n",
       "97                         Mali\n",
       "99                   Mauritania\n",
       "106                  Mozambique\n",
       "108                     Namibia\n",
       "112                       Niger\n",
       "113                     Nigeria\n",
       "116                    Pakistan\n",
       "126                      Rwanda\n",
       "129                     Senegal\n",
       "132                Sierra Leone\n",
       "137                South Africa\n",
       "142                       Sudan\n",
       "147                    Tanzania\n",
       "149                 Timor-Leste\n",
       "150                        Togo\n",
       "155                      Uganda\n",
       "165                       Yemen\n",
       "166                      Zambia\n",
       "Name: country, dtype: object"
      ]
     },
     "execution_count": 247,
     "metadata": {},
     "output_type": "execute_result"
    }
   ],
   "source": [
    "final_list"
   ]
  },
  {
   "cell_type": "code",
   "execution_count": null,
   "metadata": {},
   "outputs": [],
   "source": []
  }
 ],
 "metadata": {
  "kernelspec": {
   "display_name": "Python 3",
   "language": "python",
   "name": "python3"
  },
  "language_info": {
   "codemirror_mode": {
    "name": "ipython",
    "version": 3
   },
   "file_extension": ".py",
   "mimetype": "text/x-python",
   "name": "python",
   "nbconvert_exporter": "python",
   "pygments_lexer": "ipython3",
   "version": "3.7.3"
  }
 },
 "nbformat": 4,
 "nbformat_minor": 2
}
